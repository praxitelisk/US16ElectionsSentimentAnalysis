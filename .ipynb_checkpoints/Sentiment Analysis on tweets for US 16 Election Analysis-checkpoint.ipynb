{
 "cells": [
  {
   "cell_type": "markdown",
   "metadata": {},
   "source": [
    "# Sentiment Analysis on tweets for US 16 Election Analysis"
   ]
  },
  {
   "cell_type": "markdown",
   "metadata": {},
   "source": [
    "### This notebook will try to analyze tweets before US 16 Elections, on May 25 until May 27. Tweets was initially fetched with a python tweepy streamer and stored at a mongoDB."
   ]
  },
  {
   "cell_type": "markdown",
   "metadata": {},
   "source": [
    "##### parsing the mongoDB databases"
   ]
  },
  {
   "cell_type": "code",
   "execution_count": 21,
   "metadata": {
    "collapsed": true
   },
   "outputs": [],
   "source": [
    "from pymongo import MongoClient\n",
    "\n",
    "\n",
    "client = MongoClient(\"127.0.0.1:27017\")\n",
    "\n",
    "#name of the db\n",
    "db = client[\"dbTweetsForAnalysis\"]\n",
    "\n",
    "#name of the collection\n",
    "coll = db['rawTweetsForAnalysis']\n",
    "\n",
    "\n"
   ]
  },
  {
   "cell_type": "markdown",
   "metadata": {},
   "source": [
    "##### Tokenize all text and save all words in a dictionary"
   ]
  },
  {
   "cell_type": "code",
   "execution_count": 52,
   "metadata": {},
   "outputs": [],
   "source": [
    "from nltk.tokenize import RegexpTokenizer\n",
    "import collections\n",
    "from nltk.corpus import stopwords\n",
    "\n",
    "import re\n",
    "\n",
    "#just fetch all json files from mongoDB collection\n",
    "cursor = coll.find()\n",
    "\n",
    "wordList = []\n",
    "dictWords = {}\n",
    "tokenizer = RegexpTokenizer(pattern=\"[^ ]+\")\n",
    "english_stops = set(stopwords.words('english'))\n",
    "\n",
    "\n",
    "\n",
    "for document in cursor:\n",
    "    if \"lang\" in document and \"text\" in document and document[\"lang\"] == \"en\":\n",
    "        \n",
    "        text =  document[\"text\"].encode(\"utf-8\")\n",
    "        \n",
    "        #cleaning the text\n",
    "        text = str(text)\n",
    "        text = text[2:]\n",
    "        \n",
    "        text = re.sub(\"http[s]?:*/*/*.*\", \"\", text)\n",
    "        text = re.sub(\"RT \", \"\", text)\n",
    "        text = re.sub(\"[\\\\\\]x.{2}\", \"\", text)\n",
    "        text = re.sub(\"[\\\\\\]\\'\", \"\\'\", text)\n",
    "        text = re.sub(\"\\\"\", \"\", text)\n",
    "        text = re.sub(\"\\'\", \"\", text)\n",
    "        text = re.sub(\"[\\\\\\]n\", \"\", text)\n",
    "        text = re.sub(\"&.+;\", \"\", text)\n",
    "        text = re.sub(\"[a-zA-z]/\", \"\", text)\n",
    "        text = re.sub(\"\\.\", \"\", text)\n",
    "        text = re.sub(\"~\", \"\", text)\n",
    "        text = str.lower(text)\n",
    "        #print(text,\"\\n\")\n",
    "        \n",
    "        words =  tokenizer.tokenize(text)\n",
    "        for word in words:\n",
    "            if word not in english_stops:\n",
    "                if word not in dictWords:\n",
    "                    dictWords[word] = 1\n",
    "                    wordList.append(word)\n",
    "                else:\n",
    "                    dictWords[word] += 1\n",
    "\n",
    "\n",
    "        \n",
    "               \n",
    "\n",
    "#sort the dict by key\n",
    "#dictWords = collections.OrderedDict(sorted(dictWords.items()))\n",
    "\n",
    "#for item, value in dictWords.items():\n",
    "#    if value > 10:\n",
    "#        print(item,\":\", value,\"\\n\")\n",
    "\n",
    "#print(wordList)\n",
    "        \n",
    "\n",
    "client.close()"
   ]
  },
  {
   "cell_type": "markdown",
   "metadata": {},
   "source": [
    "##### Removing repeating words"
   ]
  },
  {
   "cell_type": "code",
   "execution_count": 51,
   "metadata": {},
   "outputs": [
    {
     "ename": "KeyboardInterrupt",
     "evalue": "",
     "output_type": "error",
     "traceback": [
      "\u001b[1;31m---------------------------------------------------------------------------\u001b[0m",
      "\u001b[1;31mKeyboardInterrupt\u001b[0m                         Traceback (most recent call last)",
      "\u001b[1;32m<ipython-input-51-d619112a348c>\u001b[0m in \u001b[0;36m<module>\u001b[1;34m()\u001b[0m\n\u001b[0;32m     21\u001b[0m \u001b[0mreplacer\u001b[0m \u001b[1;33m=\u001b[0m \u001b[0mRepeatReplacer\u001b[0m\u001b[1;33m(\u001b[0m\u001b[1;33m)\u001b[0m\u001b[1;33m\u001b[0m\u001b[0m\n\u001b[0;32m     22\u001b[0m \u001b[1;32mfor\u001b[0m \u001b[0mword\u001b[0m \u001b[1;32min\u001b[0m \u001b[0mwordList\u001b[0m\u001b[1;33m:\u001b[0m\u001b[1;33m\u001b[0m\u001b[0m\n\u001b[1;32m---> 23\u001b[1;33m     \u001b[0mwordList\u001b[0m\u001b[1;33m[\u001b[0m\u001b[0mwordList\u001b[0m\u001b[1;33m.\u001b[0m\u001b[0mindex\u001b[0m\u001b[1;33m(\u001b[0m\u001b[0mword\u001b[0m\u001b[1;33m)\u001b[0m\u001b[1;33m]\u001b[0m \u001b[1;33m=\u001b[0m \u001b[0mreplacer\u001b[0m\u001b[1;33m.\u001b[0m\u001b[0mreplace\u001b[0m\u001b[1;33m(\u001b[0m\u001b[0mword\u001b[0m\u001b[1;33m)\u001b[0m\u001b[1;33m\u001b[0m\u001b[0m\n\u001b[0m\u001b[0;32m     24\u001b[0m \u001b[1;33m\u001b[0m\u001b[0m\n\u001b[0;32m     25\u001b[0m \u001b[1;33m\u001b[0m\u001b[0m\n",
      "\u001b[1;31mKeyboardInterrupt\u001b[0m: "
     ]
    }
   ],
   "source": [
    "from nltk.corpus import wordnet\n",
    "\n",
    "class RepeatReplacer(object):\n",
    "    def __init__(self):\n",
    "        self.repeat_regexp = re.compile(r'(.*)(.)\\2(.*)')\n",
    "        self.repl = r'\\1\\2\\3'\n",
    "    \n",
    "    def replace(self, word):\n",
    "        if wordnet.synsets(word):\n",
    "            return word\n",
    "        \n",
    "        repl_word = self.repeat_regexp.sub(self.repl, word)\n",
    "    \n",
    "        if repl_word != word:\n",
    "            return self.replace(repl_word)\n",
    "        else:\n",
    "            return repl_word\n",
    "    \n",
    "    \n",
    "\n",
    "replacer = RepeatReplacer()    \n",
    "for word in wordList:\n",
    "    wordList[wordList.index(word)] = replacer.replace(word)\n",
    "    \n",
    "    \n",
    "print (wordList)"
   ]
  },
  {
   "cell_type": "markdown",
   "metadata": {},
   "source": [
    "##### Stemming the words"
   ]
  },
  {
   "cell_type": "code",
   "execution_count": 48,
   "metadata": {},
   "outputs": [
    {
     "name": "stdout",
     "output_type": "stream",
     "text": [
      "['#makehilarydebateagain', '@hilaryclinton', 'promised,', 'debate!', 'flak', 'debate,', 'what', 'next?', '#justsaying', 'wha!', '@realdonaldtrump', 'choos', 'color!', '@keitholberman:', 'cal', 'dea', 'vint', 'fost', 'fishy,', 'thu', 'question:', 'account', 'whereabout', '@marv_vien:', 'trump', 'nra', 'got', 'noth', '@sybrinafulton,', 'moth', 'mov', '#stopgunviolence', '@davidaxelrod', '@sensanders', 'numb', 'declin', '#as', 'us', '#bad', 'candid', '@realdonaldtrump:', 'thank', 'america!', '#trump2016', '@salon', 'vot', 'clintonsbl', 'presidenthil', 'maidand', 'cle', 'americano', 'repeatsvot', '@foxnews:', 'tough', 'vigil', 'smart,', 'going', 'big', 'troubl', '@realthebernison:', 'berniesanders:', 'disappoint', 'surpr', 'secret', 'clinton', 'unwil', 'deb', 'larg', 'ht', 'saw', 'day1', 'anoint', 'god', '4this', 'point', 'tim', 'help', '2return', 'olandogod', '10%', '#potustrump', '2016', 'peopl', 'chang', 'horseshit', 'thing', 'anyway!', 'efem!', '@reince', '@seanhanity', '@lrihendry', '@atensnut', 'hop', 'every', 'singl', 'wom', 'bil', 'clinton', 'abuseasault', 'com', 'out;time', 'tak', 'glov', 'enuf!', '@jaketaper', 'wow', 'cmon', '@berniesanders', 'delud', '@realdrumpf', 'guylmaowh', 'los', '@genemcvay:', 'shal', 'pond', 'discuss', 'presid', 'donald', 'is?', '@danscavino:', 'new', 'roanok', 'colleg', 'pol', 'launch', '+1%', 'pul', 'ev', 'crook', 'virgin', '#maga', 'dont', 'def', 'is', 'mindset', 'on', 'reason', 'sil', 'ex', 'today', '@berniesanders:', 'largest', 'prim', '@president_alien:', 'fbi', 'com', 'soon', '@trump_world:', 'unit', 'stat', 'country', 'back!', '#trump', '@rebamoreland:', 'nee', 'strong', 'lead', 'pantywa', 'chick', 'shit', 'fox', 'new', '#pusy', '@dodi70', 'say', 'yo', 'progresive,', 'rethink', 'posit', 'no,', 'pathet', 'littl', 'blond', 'robot', 'bimbo', 'defend', 'him,yikesad', 'stat', 'afairs!', '@politico:', '@realdonaldtrumps', 'campaign', 'dwarf', '@hilaryclintons', 'team', '@dawningfang:', 'sery', 'problem', 'pleas', 'support', 'keep', 'tel', 'terr', 'definit', 'increas', 'enthusiasm', 'nov', 'ok', 'honest', 'think', 'electable?', '#bernieorbust', 'pet', 'sake!', '@cnpolitics', '@da5650', '@governorbrown', 'hes', 'fac', 're-election', 'year', '@keitholberman', 'fat', 'tony', 'salerno', 'night!', 'iron', 'clad!', 'check', 'latest', 'cal', 'vil', 'mean', 'hat', 'gay', 'people?', '@aguywithnolife', '#epic', 'golf', 'legend-', '@jacknicklaus', '#trumptrain', 'work', 'hard', 'cant', 'catch', 'let', 'alon', 'ahead', 'chang', 'tax', 'cod', 'min', 'wag', '@jordanchariton:', 'respond', '2', 'reneg', 'agr', 'californ', '#felthebern', 'vet', 'fundra', 'scam', 'form', 'speak', '@newtgingrich', 'rip', '@mitromneys', 'anti-@realdonaldtrump', 'effort', '@amrightnow:', '@hilarysmen:', 'show', 'stand', 'despit', 'attack', '#bernie', 'smear', '#imwither', '@hilaryclinton:', 'un', 'help', 'build', 'middl', 'clas,', 'republ', 'attack', 'unions,', 'theyr', 'attack', 'mil', 'am', 'help', 'latino', 'famy', '#california', '#demprimary', '#migrantworker', 'watch:', 'join', 'wednesday,', 'may', '25th', 'anaheim', 'conv', 'center!#trump2016', 'tickets:', '@paul_campos', 'must', 'dens', 'read', 'leave!', '@lota_niko:', '@zachaler', 'guy?', 'sou', 'dakotans:', 'reg', 'democr', 'independ', 'bernie!', 'reg', 'here:', '@sableviews:', '@thomaslew76', 'ye', 'keep', '@bernievolunter', '@waynefredman', '@abc7', '@anondud3:', '#crokedhilary', 'rac', 'remark', 'mahatm', 'gandh', '@davidbrockdc:', '-', 'includ', 'pay', 'kathl', 'wiley', 'mortg', 'could', 'hil', '@cthie:', '#berniesanders', '#hilaryclinton', 'link', 'via', '@elawl196', 'dumbas,', 'wast', '7', 'mil', '@usa_infidel3', '@indep4trump', '@7bigrich', '@neilturner_', 'warn', 'europ', '@heathermae7:', '@madow', 'claim', 'berny', 'ticket', 'has,', 'tel', 'much', 'rais', '@gqforbes:', 'hisp', 'rep', '@johncabelo', 'endors', '@realdonaldtrump!', 'dt', 'know', 'trad', 'war', 'com', 'back', 'favor!', '#dtmag', '@alinwithchris', '@msnbc', 'perhap', 'sand', 'instead', '@panininef', 'lgbt', 'deserv', 'right', 'marry', 'disgust', 'plan', 'par', 'isnt', 'nee', 'say', '@gatewaypundit', 'pol', '@wmlemert:', 'cours', 'iswh', 'rub', 'meet', 'road,', 'charact', 'sad', '@andersoncoper', '@darth_pingu', 'oh', 'lov', '#bashing', '#love', '#hate', '@scotbaio:', '@realjameswods', 'mak', 'gre', '@alvarez_amanda:', 'let', 'go', '#bernie2016', '@owilis', 'kil', 'kenedy,', 'stol', 'dad', 'bicyc', 'day', 'break', 'barry', '@yosemite1982', '@megynkely', '@deray', 'mosby', 'anoth', 'low', 'lif', 'tir', 'lik', 'stir', '@blackwomen4bern:', 'nee', 'pivot', 'gen', 'sint', 'refus', '#bernieorbus', '@cylybu:', 'investig', 'bagm', 'terry', 'mca', '@stylistkavin:', 'friend,', 'head', 'phi', 'nat', 'deleg', 'non', 'pre', 'candid', 'gon', 'min', 'leagu', 'basebal', 'gam', 'am', 'that?', '@6ersbasebal', '@danscavino', 'hey', 'cn', 'story', 'gov', 'w', 'affy', 'glob', '@psychologygirl7:', 'googl', 'horr', 'hrc', 'charg', '#disturbing', '#neverhilary', 'ht', '@bfraser747:', 'sham', 'don', 'someth', '#makeamericagreatagain', '@thehil', 'funny', 'want', 'presid', '@jebmund', 'hel', 'on', '-', 'joy', 'conspir', 'theories,', 'boundless', 'hum', 'imagin', '@bernievolunter:', 'yug', 'lin', 'walk', 'along', 'longhorn', 'driv', 'rancho', 'buen', '#vista', 'high', 'school', '@htrvlwrldguardn:', '@txjean2014', 'hel,', 'im', 'sur', 'stil', 'revert', '#drumpf', 'ahol', 'fo', '@ncforbernie:', 'nam', '@cornelwest,', '@repkeithelison', 'dem', 'platform', 'commit', '@melani958:', '@z3p3in', '@pie20121', '@mrwels201', '@launterfied2', 'gradu', 'univers', 'sabrina?', 'timely?', '#caprimary', '#nmprimary', '#sdprimary', '@methepres:', '@nbcnew@wsj', 'pol:', 'lead', 'issu', '#mtpdaily', '@dumpchumptrump:', 'nic', 'try', 'grashoper!', 'invest', 'ten', 'hir', 'onlin', 'trol', 'fish', 'job', '#president', '?', '#jobinterviews', 'ak', '#debates', 'young', 'stand', 'togeth', 'united,', 'hop', 'bring', 'posit', 'us', 'down,', 'surround', 'expert', 'fields!', 'christy', 'attorney', '#hilaryclintons', '#muslimbrotherhod', '@don_vito_08:', 'mr', 'country!@realdonaldtrump', '#votetrump2016', 'anyon', 'loos', 'money', 'run', 'casino', 'ask', '4', 'bil', '$', 'state?', '@loudobs:', 'gop', 'fin', 'ral', 'behind', '@speakeryans', 'excuse?', 'watch', '#loudobstonight', 'liv', '@foxbusines', '@glizyg7', 'yeah,', 'scary', 'know', '40', 'year', 'pract', 'ter', 'rap', 'bil', 'victim', 'bit', 'tick', 'threats', 'work', 'forceful,', 'get', 'way', 'party', 'smear', 'soryit', 'abt', '@maramcewin:', 'proud', 'crew', 'knock', 'incred', 'acomplishm', 'kristol', 'hater-', 'wrong', '6/16/2015', 'predict', 'year,', 'wrong!', '@pinkroses21:', '#cornelwest', 'tru', '#staywoke', '@nick2crosby:', 'next', '@potus', 'idol,', '@hilaryclinton,', 'follow', 'me!', 'thank', 'hilary!', '#45president', '@yamiche:', 'ask', 'non-binding', 'dnc', 'import', 'answ', 'med', 'lik', 'foc', 'p', '@arongovil:', '@hardbal_chris', 'ent', 'rac', '#superdelegates', 'wasnt', 'probl', 'know', 'bary', 'soetero', 'indones', 'ter', 'keny', 'she?!?!?1', 'smal', 'loan', '1', 'dolars?', 'wav', 'arm', 'joy,', 'tak', 'mem', 'nev', 'forgot']\n"
     ]
    }
   ],
   "source": [
    "from nltk.stem import LancasterStemmer\n",
    "\n",
    "stemmer = LancasterStemmer()\n",
    "stemmedWordList = []\n",
    "\n",
    "for word in wordList:\n",
    "    \n",
    "    stemmedWordList.append(stemmer.stem(word))\n",
    "    \n",
    "#print (stemmedWordList)"
   ]
  },
  {
   "cell_type": "markdown",
   "metadata": {},
   "source": [
    "##### Lemmatizing words"
   ]
  },
  {
   "cell_type": "code",
   "execution_count": 49,
   "metadata": {},
   "outputs": [
    {
     "name": "stdout",
     "output_type": "stream",
     "text": [
      "['#makehilarydebateagain', '@hilaryclinton', 'promised,', 'debate!', 'flake', 'debate,', 'whats', 'next?', '#justsaying', 'wha!', '@realdonaldtrump', 'choose', 'color!', '@keitholberman:', 'calling', 'death', 'vince', 'foster', 'fishy,', 'thus', 'question:', 'account', 'whereabouts', '@marv_vien:', 'trump', 'nra', 'got', 'nothing', '@sybrinafulton,', 'mother', 'movement', '#stopgunviolence', '@davidaxelrod', '@sensanders', 'number', 'decline', '#as', 'usual', '#bad', 'candidate', '@realdonaldtrump:', 'thank', 'america!', '#trump2016', '@salon', 'vote', 'clintonsbil', 'presidenthilary', 'maidand', 'cleaned', 'americano', 'repeatsvote', '@foxnews:', 'tough', 'vigilant', 'smart,', 'going', 'big', 'trouble', '@realthebernison:', 'berniesanders:', 'disappointed', 'surprised', 'secretary', 'clinton', 'unwillingness', 'debate', 'large', 'ht', 'saw', 'day1', 'anointed', 'god', '4this', 'point', 'time', 'help', '2return', 'olandogod', '10%', '#potustrump', '2016', 'people', 'change', 'horseshit', 'thing', 'anyway!', 'efem!', '@reince', '@seanhanity', '@lrihendry', '@atensnut', 'hope', 'every', 'single', 'woman', 'bill', 'clinton', 'abuseasaulted', 'come', 'out;time', 'take', 'glove', 'enuf!', '@jaketaper', 'wow', 'cmon', '@berniesanders', 'delusional', '@realdrumpf', 'guylmaowhat', 'loser', '@genemcvay:', 'shal', 'ponder', 'discus', 'presidential', 'donald', 'is?', '@danscavino:', 'new', 'roanoke', 'college', 'poll', 'launching', '+1%', 'pull', 'even', 'crooked', 'virginia', '#maga', 'dont', 'defeat', 'isi', 'mindset', 'one', 'reason', 'sill', 'exist', 'today', '@berniesanders:', 'largest', 'primary', '@president_alien:', 'fbi', 'coming', 'soon', '@trump_world:', 'united', 'state', 'country', 'back!', '#trump', '@rebamoreland:', 'need', 'strong', 'leader', 'pantywaist', 'chicken', 'shit', 'fox', 'news', '#pusy', '@dodi70', 'saying', 'youre', 'progresive,', 'rethink', 'position', 'no,', 'pathetic', 'little', 'blonde', 'robot', 'bimbo', 'defend', 'him,yikesad', 'state', 'afairs!', '@politico:', '@realdonaldtrumps', 'campaign', 'dwarfed', '@hilaryclintons', 'team', '@dawningfang:', 'serious', 'problem', 'please', 'supporter', 'keep', 'telling', 'terrible', 'definitely', 'increasing', 'enthusiasm', 'nov', 'ok', 'honestly', 'think', 'electable?', '#bernieorbust', 'petes', 'sake!', '@cnpolitics', '@da5650', '@governorbrown', 'he', 'facing', 're-election', 'year', '@keitholberman', 'fat', 'tony', 'salerno', 'night!', 'iron', 'clad!', 'check', 'latest', 'called', 'vile', 'mean', 'hate', 'gay', 'people?', '@aguywithnolife', '#epic', 'golf', 'legend-', '@jacknicklaus', '#trumptrain', 'working', 'hard', 'cant', 'catch', 'let', 'alone', 'ahead', 'change', 'tax', 'code', 'min', 'wage', '@jordanchariton:', 'responds', '2', 'reneging', 'agreement', 'california', '#felthebern', 'veteran', 'fundraiser', 'scam', 'former', 'speaker', '@newtgingrich', 'rip', '@mitromneys', 'anti-@realdonaldtrump', 'effort', '@amrightnow:', '@hilarysmen:', 'show', 'standing', 'despite', 'attack', '#bernie', 'smear', '#imwither', '@hilaryclinton:', 'union', 'helped', 'build', 'middle', 'clas,', 'republican', 'attack', 'unions,', 'theyre', 'attacking', 'million', 'american', 'helping', 'latino', 'family', '#california', '#demprimary', '#migrantworker', 'watch:', 'join', 'wednesday,', 'may', '25th', 'anaheim', 'convention', 'center!#trump2016', 'tickets:', '@paul_campos', 'must', 'dense', 'read', 'leave!', '@lota_niko:', '@zachaler', 'guy?', 'south', 'dakotans:', 'registered', 'democrat', 'independent', 'bernie!', 'register', 'here:', '@sableviews:', '@thomaslew76', 'yes', 'keep', '@bernievolunter', '@waynefredman', '@abc7', '@anondud3:', '#crokedhilary', 'racist', 'remark', 'mahatma', 'gandhi', '@davidbrockdc:', '-', 'including', 'paying', 'kathlen', 'wileys', 'mortgage', 'could', 'hillary', '@cthie:', '#berniesanders', '#hilaryclinton', 'link', 'via', '@elawl196', 'dumbas,', 'wasted', '7', 'million', '@usa_infidel3', '@indep4trump', '@7bigrich', '@neilturner_', 'warned', 'europe', '@heathermae7:', '@madow', 'claim', 'bernie', 'ticket', 'has,', 'tell', 'much', 'raised', '@gqforbes:', 'hispanic', 'rep', '@johncabelo', 'endorses', '@realdonaldtrump!', 'dt', 'know', 'trade', 'war', 'come', 'back', 'favor!', '#dtmag', '@alinwithchris', '@msnbc', 'perhaps', 'sander', 'instead', '@panininef', 'lgbt', 'deserve', 'right', 'marriage', 'disgusting', 'planned', 'parenthood', 'isnt', 'needed', 'say', '@gatewaypundit', 'poll', '@wmlemert:', 'course', 'iswhen', 'rubber', 'meet', 'road,', 'character', 'sad', '@andersoncoper', '@darth_pingu', 'oh', 'love', '#bashing', '#love', '#hate', '@scotbaio:', '@realjameswods', 'make', 'great', '@alvarez_amanda:', 'let', 'go', '#bernie2016', '@owilis', 'killed', 'kenedy,', 'stole', 'dad', 'bicycle', 'day', 'breaking', 'barrier', '@yosemite1982', '@megynkely', '@deray', 'mosby', 'another', 'low', 'life', 'tired', 'like', 'stirring', '@blackwomen4bern:', 'need', 'pivot', 'general', 'since', 'refusing', '#bernieorbus', '@cylybu:', 'investigating', 'bagman', 'terry', 'mcaulife', '@stylistkavin:', 'friend,', 'head', 'phily', 'national', 'delegate', 'none', 'pres', 'candidate', 'gone', 'minor', 'league', 'baseball', 'game', 'american', 'that?', '@6ersbasebal', '@danscavino', 'hey', 'cn', 'story', 'gov', 'w', 'affiliation', 'global', '@psychologygirl7:', 'googled', 'horrible', 'hrc', 'charge', '#disturbing', '#neverhilary', 'ht', '@bfraser747:', 'shame', 'done', 'something', '#makeamericagreatagain', '@thehil', 'funny', 'want', 'presidency', '@jebmund', 'hell', 'one', '-', 'joy', 'conspiracy', 'theories,', 'boundless', 'human', 'imagination', '@bernievolunter:', 'yuge', 'line', 'walk', 'along', 'longhorn', 'drive', 'rancho', 'buena', '#vista', 'high', 'school', '@htrvlwrldguardn:', '@txjean2014', 'hel,', 'im', 'sure', 'still', 'revert', '#drumpf', 'ahole', 'fo', '@ncforbernie:', 'name', '@cornelwest,', '@repkeithelison', 'dem', 'platform', 'committee', '@melani958:', '@z3p3in', '@pie20121', '@mrwels201', '@launterfied2', 'graduated', 'university', 'sabrina?', 'timely?', '#caprimary', '#nmprimary', '#sdprimary', '@methepres:', '@nbcnew@wsj', 'pol:', 'lead', 'issue', '#mtpdaily', '@dumpchumptrump:', 'nice', 'try', 'grashoper!', 'invest', 'ten', 'hiring', 'online', 'troll', 'fish', 'job', '#president', '?', '#jobinterviews', 'aka', '#debates', 'young', 'stand', 'together', 'united,', 'hopeful', 'bring', 'positive', 'u', 'down,', 'surround', 'expert', 'fields!', 'christy', 'attorney', '#hilaryclintons', '#muslimbrotherhod', '@don_vito_08:', 'mr', 'country!@realdonaldtrump', '#votetrump2016', 'anyone', 'loose', 'money', 'running', 'casino', 'asks', '4', 'billion', '$', 'state?', '@loudobs:', 'gop', 'finally', 'rallying', 'behind', '@speakeryans', 'excuse?', 'watch', '#loudobstonight', 'live', '@foxbusines', '@glizyg7', 'yeah,', 'scary', 'knowing', '40', 'year', 'practice', 'terrorizing', 'rapist', 'bill', 'victim', 'bit', 'ticked', 'threat', 'worked', 'forceful,', 'get', 'way', 'party', 'smear', 'soryits', 'abt', '@maramcewin:', 'proud', 'crew', 'knock', 'incredible', 'acomplishme', 'kristol', 'hater-', 'wrong', '6/16/2015', 'prediction', 'year,', 'wrong!', '@pinkroses21:', '#cornelwest', 'truth', '#staywoke', '@nick2crosby:', 'next', '@potus', 'idol,', '@hilaryclinton,', 'followed', 'me!', 'thanks', 'hilary!', '#45president', '@yamiche:', 'asked', 'non-binding', 'dnc', 'important', 'answered', 'medium', 'like', 'focus', 'p', '@arongovil:', '@hardbal_chris', 'entered', 'race', '#superdelegates', 'wasnt', 'probl', 'know', 'bary', 'soetero', 'indonesian', 'terrorist', 'kenya', 'she?!?!?1', 'small', 'loan', '1', 'dolars?', 'wave', 'arm', 'joy,', 'taking', 'memorable', 'never', 'forgotten']\n"
     ]
    }
   ],
   "source": [
    "from nltk.stem import WordNetLemmatizer\n",
    "\n",
    "lemmatizer = WordNetLemmatizer()\n",
    "LemmaWordList = []\n",
    "\n",
    "for word in wordList:\n",
    "    \n",
    "    LemmaWordList.append(lemmatizer.lemmatize(word))\n",
    "    \n",
    "#print (LemmaWordList)"
   ]
  },
  {
   "cell_type": "code",
   "execution_count": null,
   "metadata": {
    "collapsed": true
   },
   "outputs": [],
   "source": []
  }
 ],
 "metadata": {
  "kernelspec": {
   "display_name": "Python 3",
   "language": "python",
   "name": "python3"
  },
  "language_info": {
   "codemirror_mode": {
    "name": "ipython",
    "version": 3
   },
   "file_extension": ".py",
   "mimetype": "text/x-python",
   "name": "python",
   "nbconvert_exporter": "python",
   "pygments_lexer": "ipython3",
   "version": "3.6.1"
  }
 },
 "nbformat": 4,
 "nbformat_minor": 2
}
